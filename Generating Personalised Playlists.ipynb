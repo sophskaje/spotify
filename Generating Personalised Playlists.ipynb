{
 "cells": [
  {
   "cell_type": "code",
   "execution_count": 13,
   "id": "spatial-bikini",
   "metadata": {},
   "outputs": [],
   "source": [
    "import pandas as pd\n",
    "import numpy as np\n",
    "import  sklearn\n",
    "\n",
    "from sklearn import tree\n",
    "from sklearn.tree import DecisionTreeClassifier\n",
    "from sklearn.model_selection import train_test_split\n",
    "\n",
    "from matplotlib import pyplot as plt\n",
    "import seaborn as sns\n",
    "\n",
    "import graphviz\n",
    "import pydotplus\n",
    "import io\n",
    "\n",
    "from scipy import misc\n",
    "from sklearn.metrics import accuracy_score\n",
    "\n",
    "import spotipy\n",
    "import spotipy.util as util\n",
    "sp = spotipy.Spotify() \n",
    "from spotipy.oauth2 import SpotifyClientCredentials "
   ]
  },
  {
   "cell_type": "code",
   "execution_count": 19,
   "id": "suspected-orchestra",
   "metadata": {},
   "outputs": [],
   "source": [
    "%env SPOTIPY_CLIENT_ID=\"      \" \n",
    "%env SPOTIPY_CLIENT_SECRET=\"      \"\n",
    "%env SPOTIPY_REDIRECT_URI=\"http://localhost/\"\n",
    "\n",
    "scope = 'user-library-read playlist-modify-public playlist-read-private'\n",
    "\n",
    "client_credentials_manager = SpotifyClientCredentials(client_id, client_secret) \n",
    "\n",
    "sp = spotipy.Spotify(client_credentials_manager=client_credentials_manager)\n",
    "\n",
    "token = util.prompt_for_user_token(username, scope, client_id, client_secret, redirect_uri)\n",
    "\n",
    "if token:\n",
    "    sp = spotipy.Spotify(auth=token)\n",
    "else:\n",
    "    print(\"Can't get token for\", username)"
   ]
  },
  {
   "cell_type": "code",
   "execution_count": 15,
   "id": "spiritual-validation",
   "metadata": {},
   "outputs": [],
   "source": [
    "good_playlist = sp.user_playlist(\"username\", \"playlist_uri\")\n",
    "good_tracks = good_playlist[\"tracks\"]\n",
    "good_songs = good_tracks[\"items\"] \n",
    "\n",
    "bad_playlist = sp.user_playlist(\"username\", \"playlist_uri\")\n",
    "bad_tracks = bad_playlist[\"tracks\"]\n",
    "bad_songs = bad_tracks[\"items\"] "
   ]
  },
  {
   "cell_type": "code",
   "execution_count": 16,
   "id": "charged-width",
   "metadata": {},
   "outputs": [
    {
     "name": "stdout",
     "output_type": "stream",
     "text": [
      "352\n",
      "1bYnvQcNHNIuBFs3OSHlW5\n",
      "Walk with You\n"
     ]
    }
   ],
   "source": [
    "while good_tracks['next']:\n",
    "    good_tracks = sp.next(good_tracks)\n",
    "    for item in good_tracks[\"items\"]:\n",
    "        good_songs.append(item)\n",
    "good_ids = [] \n",
    "print(len(good_songs))\n",
    "for i in range(len(good_songs)):\n",
    "    good_ids.append(good_songs[i]['track']['id'])\n",
    "good_tracks\n",
    "    \n",
    "\n",
    "print(good_songs[1]['track']['id'])\n",
    "print(good_songs[1]['track']['name'])"
   ]
  },
  {
   "cell_type": "code",
   "execution_count": 17,
   "id": "registered-briefs",
   "metadata": {},
   "outputs": [
    {
     "name": "stdout",
     "output_type": "stream",
     "text": [
      "378\n",
      "47FyQCd3TYLrZ9TU6MPaWK\n",
      "Ace Of Spades\n"
     ]
    }
   ],
   "source": [
    "while bad_tracks['next']:\n",
    "    bad_tracks = sp.next(bad_tracks)\n",
    "    for item in bad_tracks[\"items\"]:\n",
    "        bad_songs.append(item)\n",
    "bad_ids = [] \n",
    "print(len(bad_songs))\n",
    "for i in range(len(bad_songs)):\n",
    "    bad_ids.append(bad_songs[i]['track']['id'])\n",
    "bad_tracks\n",
    "    \n",
    "\n",
    "print(bad_songs[1]['track']['id'])\n",
    "print(bad_songs[1]['track']['name'])"
   ]
  },
  {
   "cell_type": "code",
   "execution_count": 18,
   "id": "incoming-access",
   "metadata": {},
   "outputs": [],
   "source": [
    "ogtrack_ids = []\n",
    "ogtrack_names = []\n",
    "for i in range(0,len(good_ids)):\n",
    "    if good_songs[i]['track']['id'] != None: \n",
    "        ogtrack_ids.append(good_songs[i]['track']['id'])\n",
    "        ogtrack_names.append(good_songs[i]['track']['name'])\n",
    "for i in range(0,len(bad_ids)):\n",
    "    if bad_songs[i]['track']['id'] != None: \n",
    "        ogtrack_ids.append(bad_songs[i]['track']['id'])\n",
    "        ogtrack_names.append(bad_songs[i]['track']['name'])\n",
    "        \n",
    "features = []\n",
    "for i in range(0,len(good_ids)):\n",
    "    audio_features = sp.audio_features(good_ids[i])\n",
    "    for track in audio_features:\n",
    "        features.append(track)\n",
    "        features[-1]['target'] = 1\n",
    "for i in range(0,len(bad_ids),50):\n",
    "    audio_features = sp.audio_features(bad_ids[i:i+50])\n",
    "    for track in audio_features:\n",
    "        features.append(track)\n",
    "        features[-1]['target'] = 0"
   ]
  },
  {
   "cell_type": "code",
   "execution_count": 19,
   "id": "neutral-story",
   "metadata": {},
   "outputs": [
    {
     "data": {
      "text/html": [
       "<div>\n",
       "<style scoped>\n",
       "    .dataframe tbody tr th:only-of-type {\n",
       "        vertical-align: middle;\n",
       "    }\n",
       "\n",
       "    .dataframe tbody tr th {\n",
       "        vertical-align: top;\n",
       "    }\n",
       "\n",
       "    .dataframe thead th {\n",
       "        text-align: right;\n",
       "    }\n",
       "</style>\n",
       "<table border=\"1\" class=\"dataframe\">\n",
       "  <thead>\n",
       "    <tr style=\"text-align: right;\">\n",
       "      <th></th>\n",
       "      <th>id</th>\n",
       "      <th>target</th>\n",
       "      <th>acousticness</th>\n",
       "      <th>danceability</th>\n",
       "      <th>duration_ms</th>\n",
       "      <th>energy</th>\n",
       "      <th>instrumentalness</th>\n",
       "      <th>key</th>\n",
       "      <th>liveness</th>\n",
       "      <th>loudness</th>\n",
       "      <th>mode</th>\n",
       "      <th>speechiness</th>\n",
       "      <th>tempo</th>\n",
       "      <th>valence</th>\n",
       "    </tr>\n",
       "  </thead>\n",
       "  <tbody>\n",
       "    <tr>\n",
       "      <th>That Was Your Mother - Gui Boratto Remix</th>\n",
       "      <td>7qB5mBa997C6ddiCgmsfU4</td>\n",
       "      <td>1</td>\n",
       "      <td>0.01120</td>\n",
       "      <td>0.736</td>\n",
       "      <td>377173</td>\n",
       "      <td>0.576</td>\n",
       "      <td>0.116000</td>\n",
       "      <td>5</td>\n",
       "      <td>0.0708</td>\n",
       "      <td>-9.422</td>\n",
       "      <td>1</td>\n",
       "      <td>0.0416</td>\n",
       "      <td>115.002</td>\n",
       "      <td>0.319</td>\n",
       "    </tr>\n",
       "    <tr>\n",
       "      <th>Walk with You</th>\n",
       "      <td>1bYnvQcNHNIuBFs3OSHlW5</td>\n",
       "      <td>1</td>\n",
       "      <td>0.33400</td>\n",
       "      <td>0.794</td>\n",
       "      <td>170240</td>\n",
       "      <td>0.614</td>\n",
       "      <td>0.006600</td>\n",
       "      <td>2</td>\n",
       "      <td>0.1160</td>\n",
       "      <td>-7.510</td>\n",
       "      <td>1</td>\n",
       "      <td>0.0861</td>\n",
       "      <td>114.026</td>\n",
       "      <td>0.251</td>\n",
       "    </tr>\n",
       "    <tr>\n",
       "      <th>Valerie</th>\n",
       "      <td>5EObbWJGbZxmJd3oLQuTtl</td>\n",
       "      <td>1</td>\n",
       "      <td>0.00978</td>\n",
       "      <td>0.927</td>\n",
       "      <td>228571</td>\n",
       "      <td>0.377</td>\n",
       "      <td>0.000026</td>\n",
       "      <td>11</td>\n",
       "      <td>0.0564</td>\n",
       "      <td>-9.180</td>\n",
       "      <td>1</td>\n",
       "      <td>0.0548</td>\n",
       "      <td>105.000</td>\n",
       "      <td>0.561</td>\n",
       "    </tr>\n",
       "    <tr>\n",
       "      <th>Get It Right</th>\n",
       "      <td>74ZQkrS93fcV6fcRYxqjjK</td>\n",
       "      <td>1</td>\n",
       "      <td>0.61800</td>\n",
       "      <td>0.747</td>\n",
       "      <td>239200</td>\n",
       "      <td>0.301</td>\n",
       "      <td>0.014900</td>\n",
       "      <td>2</td>\n",
       "      <td>0.0799</td>\n",
       "      <td>-11.882</td>\n",
       "      <td>1</td>\n",
       "      <td>0.0382</td>\n",
       "      <td>84.033</td>\n",
       "      <td>0.465</td>\n",
       "    </tr>\n",
       "    <tr>\n",
       "      <th>Dragonflies - Cantoma Remix</th>\n",
       "      <td>7wwFrG698IVMD73QqbC9WW</td>\n",
       "      <td>1</td>\n",
       "      <td>0.22500</td>\n",
       "      <td>0.773</td>\n",
       "      <td>342293</td>\n",
       "      <td>0.526</td>\n",
       "      <td>0.858000</td>\n",
       "      <td>4</td>\n",
       "      <td>0.0862</td>\n",
       "      <td>-12.114</td>\n",
       "      <td>1</td>\n",
       "      <td>0.0362</td>\n",
       "      <td>119.983</td>\n",
       "      <td>0.908</td>\n",
       "    </tr>\n",
       "  </tbody>\n",
       "</table>\n",
       "</div>"
      ],
      "text/plain": [
       "                                                              id  target  \\\n",
       "That Was Your Mother - Gui Boratto Remix  7qB5mBa997C6ddiCgmsfU4       1   \n",
       "Walk with You                             1bYnvQcNHNIuBFs3OSHlW5       1   \n",
       "Valerie                                   5EObbWJGbZxmJd3oLQuTtl       1   \n",
       "Get It Right                              74ZQkrS93fcV6fcRYxqjjK       1   \n",
       "Dragonflies - Cantoma Remix               7wwFrG698IVMD73QqbC9WW       1   \n",
       "\n",
       "                                          acousticness  danceability  \\\n",
       "That Was Your Mother - Gui Boratto Remix       0.01120         0.736   \n",
       "Walk with You                                  0.33400         0.794   \n",
       "Valerie                                        0.00978         0.927   \n",
       "Get It Right                                   0.61800         0.747   \n",
       "Dragonflies - Cantoma Remix                    0.22500         0.773   \n",
       "\n",
       "                                          duration_ms  energy  \\\n",
       "That Was Your Mother - Gui Boratto Remix       377173   0.576   \n",
       "Walk with You                                  170240   0.614   \n",
       "Valerie                                        228571   0.377   \n",
       "Get It Right                                   239200   0.301   \n",
       "Dragonflies - Cantoma Remix                    342293   0.526   \n",
       "\n",
       "                                          instrumentalness  key  liveness  \\\n",
       "That Was Your Mother - Gui Boratto Remix          0.116000    5    0.0708   \n",
       "Walk with You                                     0.006600    2    0.1160   \n",
       "Valerie                                           0.000026   11    0.0564   \n",
       "Get It Right                                      0.014900    2    0.0799   \n",
       "Dragonflies - Cantoma Remix                       0.858000    4    0.0862   \n",
       "\n",
       "                                          loudness  mode  speechiness  \\\n",
       "That Was Your Mother - Gui Boratto Remix    -9.422     1       0.0416   \n",
       "Walk with You                               -7.510     1       0.0861   \n",
       "Valerie                                     -9.180     1       0.0548   \n",
       "Get It Right                               -11.882     1       0.0382   \n",
       "Dragonflies - Cantoma Remix                -12.114     1       0.0362   \n",
       "\n",
       "                                            tempo  valence  \n",
       "That Was Your Mother - Gui Boratto Remix  115.002    0.319  \n",
       "Walk with You                             114.026    0.251  \n",
       "Valerie                                   105.000    0.561  \n",
       "Get It Right                               84.033    0.465  \n",
       "Dragonflies - Cantoma Remix               119.983    0.908  "
      ]
     },
     "execution_count": 19,
     "metadata": {},
     "output_type": "execute_result"
    }
   ],
   "source": [
    "trainingData = pd.DataFrame(features, index=ogtrack_names)\n",
    "\n",
    "trainingData=trainingData[[\"id\", \"target\", \"acousticness\", \"danceability\", \"duration_ms\", \n",
    "                         \"energy\", \"instrumentalness\",  \"key\", \"liveness\",\n",
    "                         \"loudness\", \"mode\", \"speechiness\", \"tempo\", \"valence\"]]\n",
    "\n",
    "trainingData.head()"
   ]
  },
  {
   "cell_type": "code",
   "execution_count": 20,
   "id": "arctic-vegetable",
   "metadata": {},
   "outputs": [
    {
     "name": "stdout",
     "output_type": "stream",
     "text": [
      "Training size: 619, Test size: 110\n"
     ]
    }
   ],
   "source": [
    "train, test = train_test_split(trainingData, test_size = 0.15)\n",
    "print(\"Training size: {}, Test size: {}\".format(len(train),len(test)))"
   ]
  },
  {
   "cell_type": "code",
   "execution_count": 21,
   "id": "alternative-bruce",
   "metadata": {},
   "outputs": [],
   "source": [
    "red_blue = ['#19B5FE', '#EF4836']\n",
    "palette = sns.color_palette(red_blue)\n",
    "sns.set_palette(palette)\n",
    "sns.set_style('white')"
   ]
  },
  {
   "cell_type": "code",
   "execution_count": 22,
   "id": "hearing-order",
   "metadata": {},
   "outputs": [
    {
     "name": "stdout",
     "output_type": "stream",
     "text": [
      "That Was Your Mother - Gui Boratto Remix    115.002\n",
      "Walk with You                               114.026\n",
      "Valerie                                     105.000\n",
      "Get It Right                                 84.033\n",
      "Dragonflies - Cantoma Remix                 119.983\n",
      "                                             ...   \n",
      "Passionfruit                                111.980\n",
      "Pass the Vibes                              140.022\n",
      "Smokers Delight                             113.999\n",
      "Una Massive Sunshine                         96.022\n",
      "The Wheel                                   180.038\n",
      "Name: tempo, Length: 351, dtype: float64\n",
      "Paranoid                                             162.780\n",
      "Ace Of Spades                                        140.245\n",
      "Crazy Train                                          137.571\n",
      "The Number Of The Beast - 1998 Remastered Version     99.641\n",
      "Hallowed Be Thy Name - 1998 Remastered Version       103.990\n",
      "                                                      ...   \n",
      "Over My Head                                         132.447\n",
      "Wait and Bleed                                        93.345\n",
      "Powertrip                                            140.732\n",
      "Astronomy                                             87.186\n",
      "Bomber                                               105.692\n",
      "Name: tempo, Length: 378, dtype: float64\n"
     ]
    }
   ],
   "source": [
    "pos_tempo = trainingData[trainingData['target'] == 1]['tempo']\n",
    "neg_tempo = trainingData[trainingData['target'] == 0]['tempo']\n",
    "pos_dance = trainingData[trainingData['target'] == 1]['danceability']\n",
    "neg_dance = trainingData[trainingData['target'] == 0]['danceability']\n",
    "pos_duration = trainingData[trainingData['target'] == 1]['duration_ms']\n",
    "neg_duration = trainingData[trainingData['target'] == 0]['duration_ms']\n",
    "pos_loudness = trainingData[trainingData['target'] == 1]['loudness']\n",
    "neg_loudness = trainingData[trainingData['target'] == 0]['loudness']\n",
    "pos_speechiness = trainingData[trainingData['target'] == 1]['speechiness']\n",
    "neg_speechiness = trainingData[trainingData['target'] == 0]['speechiness']\n",
    "pos_valence = trainingData[trainingData['target'] == 1]['valence']\n",
    "neg_valence = trainingData[trainingData['target'] == 0]['valence']\n",
    "pos_energy = trainingData[trainingData['target'] == 1]['energy']\n",
    "neg_energy = trainingData[trainingData['target'] == 0]['energy']\n",
    "pos_acousticness = trainingData[trainingData['target'] == 1]['acousticness']\n",
    "neg_acousticness = trainingData[trainingData['target'] == 0]['acousticness']\n",
    "pos_key = trainingData[trainingData['target'] == 1]['key']\n",
    "neg_key = trainingData[trainingData['target'] == 0]['key']\n",
    "pos_instrumentalness = trainingData[trainingData['target'] == 1]['instrumentalness']\n",
    "neg_instrumentalness = trainingData[trainingData['target'] == 0]['instrumentalness']\n",
    "\n",
    "print(pos_tempo)\n",
    "print(neg_tempo)"
   ]
  },
  {
   "cell_type": "code",
   "execution_count": 23,
   "id": "minus-royalty",
   "metadata": {},
   "outputs": [
    {
     "data": {
      "text/plain": [
       "<matplotlib.legend.Legend at 0x124c47f40>"
      ]
     },
     "execution_count": 23,
     "metadata": {},
     "output_type": "execute_result"
    },
    {
     "data": {
      "image/png": "[encoded data removed]",
      "text/plain": [
       "<Figure size 864x576 with 1 Axes>"
      ]
     },
     "metadata": {},
     "output_type": "display_data"
    }
   ],
   "source": [
    "fig = plt.figure(figsize=(12,8))\n",
    "plt.title(\"Song Tempo Like / Dislike Distribution\")\n",
    "pos_tempo.hist(alpha=0.7, bins=30, label='positive')\n",
    "neg_tempo.hist(alpha=0.7, bins=30, label='negative')\n",
    "plt.legend(loc='upper right')"
   ]
  },
  {
   "cell_type": "code",
   "execution_count": 24,
   "id": "previous-convert",
   "metadata": {},
   "outputs": [
    {
     "data": {
      "text/plain": [
       "<AxesSubplot:>"
      ]
     },
     "execution_count": 24,
     "metadata": {},
     "output_type": "execute_result"
    },
    {
     "data": {
      "image/png": "[encoded data removed]",
      "text/plain": [
       "<Figure size 1080x1080 with 14 Axes>"
      ]
     },
     "metadata": {},
     "output_type": "display_data"
    }
   ],
   "source": [
    "fig2 = plt.figure(figsize=(15,15))\n",
    "\n",
    "#Danceability\n",
    "ax3 = fig2.add_subplot(331)\n",
    "ax3.set_xlabel('Danceability')\n",
    "ax3.set_ylabel('Count')\n",
    "ax3.set_title('Song Danceability Like Distribution')\n",
    "pos_dance.hist(alpha= 0.5, bins=30)\n",
    "ax4 = fig2.add_subplot(331)\n",
    "neg_dance.hist(alpha= 0.5, bins=30)\n",
    "\n",
    "#Duration_ms\n",
    "ax5 = fig2.add_subplot(332)\n",
    "ax5.set_xlabel('Duration')\n",
    "ax5.set_ylabel('Count')\n",
    "ax5.set_title('Song Duration Like Distribution')\n",
    "pos_duration.hist(alpha= 0.5, bins=30)\n",
    "ax6 = fig2.add_subplot(332)\n",
    "neg_duration.hist(alpha= 0.5, bins=30)\n",
    "\n",
    "#Loudness\n",
    "ax7 = fig2.add_subplot(333)\n",
    "ax7.set_xlabel('Loudness')\n",
    "ax7.set_ylabel('Count')\n",
    "ax7.set_title('Song Loudness Like Distribution')\n",
    "pos_loudness.hist(alpha= 0.5, bins=30)\n",
    "ax8 = fig2.add_subplot(333)\n",
    "neg_loudness.hist(alpha= 0.5, bins=30)\n",
    "\n",
    "#Speechiness\n",
    "ax9 = fig2.add_subplot(334)\n",
    "ax9.set_xlabel('Speechiness')\n",
    "ax9.set_ylabel('Count')\n",
    "ax9.set_title('Song Speechiness Like Distribution')\n",
    "pos_speechiness.hist(alpha= 0.5, bins=30)\n",
    "ax10 = fig2.add_subplot(334)\n",
    "neg_speechiness.hist(alpha= 0.5, bins=30)\n",
    "\n",
    "#Valence\n",
    "ax11 = fig2.add_subplot(335)\n",
    "ax11.set_xlabel('Valence')\n",
    "ax11.set_ylabel('Count')\n",
    "ax11.set_title('Song Valence Like Distribution')\n",
    "pos_valence.hist(alpha= 0.5, bins=30)\n",
    "ax12 = fig2.add_subplot(335)\n",
    "neg_valence.hist(alpha= 0.5, bins=30)\n",
    "\n",
    "#Energy\n",
    "ax13 = fig2.add_subplot(336)\n",
    "ax13.set_xlabel('Energy')\n",
    "ax13.set_ylabel('Count')\n",
    "ax13.set_title('Song Energy Like Distribution')\n",
    "pos_energy.hist(alpha= 0.5, bins=30)\n",
    "ax14 = fig2.add_subplot(336)\n",
    "neg_energy.hist(alpha= 0.5, bins=30)\n",
    "\n",
    "#Key\n",
    "ax15 = fig2.add_subplot(337)\n",
    "ax15.set_xlabel('Key')\n",
    "ax15.set_ylabel('Count')\n",
    "ax15.set_title('Song Key Like Distribution')\n",
    "pos_key.hist(alpha= 0.5, bins=30)\n",
    "ax16 = fig2.add_subplot(337)\n",
    "neg_key.hist(alpha= 0.5, bins=30)\n",
    "\n",
    "#Key\n",
    "#ax15 = fig2.add_subplot(338)\n",
    "#ax15.set_xlabel('Popularity')\n",
    "#ax15.set_ylabel('Count')\n",
    "#ax15.set_title('Popularity Distribution')\n",
    "#pos_popularity.hist(alpha= 0.5, bins=30)\n",
    "#ax16 = fig2.add_subplot(338)\n",
    "#neg_popularity.hist(alpha= 0.5, bins=30)"
   ]
  },
  {
   "cell_type": "code",
   "execution_count": 26,
   "id": "exclusive-significance",
   "metadata": {},
   "outputs": [],
   "source": [
    "#Defining feature set:\n",
    "analysis_features = [\"danceability\", \"loudness\", \"valence\", \"energy\", \"instrumentalness\", \"acousticness\", \"key\", \"speechiness\",\"duration_ms\"]"
   ]
  },
  {
   "cell_type": "code",
   "execution_count": 27,
   "id": "prostate-subcommittee",
   "metadata": {},
   "outputs": [],
   "source": [
    "#Split the data into x and y test and train sets to feed them into a bunch of classifiers!\n",
    "x_train = train[analysis_features]\n",
    "y_train = train[\"target\"]\n",
    "\n",
    "x_test = test[features]\n",
    "y_test = test[\"target\"]"
   ]
  },
  {
   "cell_type": "code",
   "execution_count": 28,
   "id": "deluxe-drilling",
   "metadata": {},
   "outputs": [
    {
     "name": "stdout",
     "output_type": "stream",
     "text": [
      "Accuracy using Decision Tree: 88.2 %\n"
     ]
    }
   ],
   "source": [
    "#Decision Tree Classifier - helpful to visualise\n",
    "c = DecisionTreeClassifier(min_samples_split=100)\n",
    "dt = c.fit(x_train, y_train)\n",
    "y_pred = c.predict(x_test)\n",
    "score = accuracy_score(y_test, y_pred) * 100\n",
    "\n",
    "print(\"Accuracy using Decision Tree:\", round(score,1), \"%\")"
   ]
  },
  {
   "cell_type": "code",
   "execution_count": 29,
   "id": "bottom-copying",
   "metadata": {},
   "outputs": [
    {
     "name": "stdout",
     "output_type": "stream",
     "text": [
      "Accuracy using mlp Tree:  45.5 %\n"
     ]
    }
   ],
   "source": [
    "from sklearn.neural_network import MLPClassifier\n",
    "mlp = MLPClassifier()\n",
    "mlp.fit(x_train, y_train)\n",
    "mlp_pred = mlp.predict(x_test)\n",
    "score = accuracy_score(y_test, mlp_pred) * 100\n",
    "print(\"Accuracy using mlp Tree: \", round(score, 1), \"%\")"
   ]
  },
  {
   "cell_type": "code",
   "execution_count": 30,
   "id": "abroad-accent",
   "metadata": {},
   "outputs": [
    {
     "name": "stdout",
     "output_type": "stream",
     "text": [
      "Accuracy using Knn Tree:  88.2 %\n"
     ]
    }
   ],
   "source": [
    "from sklearn.neighbors import KNeighborsClassifier\n",
    "knn = KNeighborsClassifier(3)\n",
    "knn.fit(x_train, y_train)\n",
    "knn_pred = c.predict(x_test)\n",
    "score = accuracy_score(y_test, knn_pred) * 100\n",
    "print(\"Accuracy using Knn Tree: \", round(score, 1), \"%\")"
   ]
  },
  {
   "cell_type": "code",
   "execution_count": 31,
   "id": "golden-clothing",
   "metadata": {},
   "outputs": [
    {
     "name": "stdout",
     "output_type": "stream",
     "text": [
      "Accuracy using Gbc:  95.5 %\n"
     ]
    }
   ],
   "source": [
    "from sklearn.ensemble import GradientBoostingClassifier\n",
    "gbc = GradientBoostingClassifier(n_estimators=100, learning_rate=.1, max_depth=1, random_state=0)\n",
    "gbc.fit(x_train, y_train)\n",
    "predicted = gbc.predict(x_test)\n",
    "score = accuracy_score(y_test, predicted)*100\n",
    "print(\"Accuracy using Gbc: \", round(score, 1), \"%\")"
   ]
  },
  {
   "cell_type": "code",
   "execution_count": 32,
   "id": "lightweight-investing",
   "metadata": {},
   "outputs": [
    {
     "name": "stdout",
     "output_type": "stream",
     "text": [
      "Accuracy using random forest:  90.0 %\n"
     ]
    }
   ],
   "source": [
    "from sklearn.ensemble import RandomForestClassifier\n",
    "forest = RandomForestClassifier(max_depth=5, n_estimators=10, max_features=1)\n",
    "forest.fit(x_train, y_train)\n",
    "forest_pred = forest.predict(x_test)\n",
    "from sklearn.metrics import accuracy_score\n",
    "score = accuracy_score(y_test, forest_pred) * 100\n",
    "print(\"Accuracy using random forest: \", round(score, 1), \"%\")"
   ]
  },
  {
   "cell_type": "code",
   "execution_count": 33,
   "id": "centered-husband",
   "metadata": {},
   "outputs": [
    {
     "name": "stdout",
     "output_type": "stream",
     "text": [
      "Accuracy using Kmeans:  44.5 %\n"
     ]
    }
   ],
   "source": [
    "from sklearn.cluster import KMeans\n",
    "k_means = KMeans(n_clusters=3, random_state=0)\n",
    "k_means.fit(x_train, y_train)\n",
    "predicted= k_means.predict(x_test)\n",
    "score = accuracy_score(y_test, predicted)*100\n",
    "print(\"Accuracy using Kmeans: \", round(score, 1), \"%\")"
   ]
  },
  {
   "cell_type": "code",
   "execution_count": 98,
   "id": "apparent-anniversary",
   "metadata": {},
   "outputs": [
    {
     "name": "stdout",
     "output_type": "stream",
     "text": [
      "30\n"
     ]
    },
    {
     "data": {
      "text/html": [
       "<div>\n",
       "<style scoped>\n",
       "    .dataframe tbody tr th:only-of-type {\n",
       "        vertical-align: middle;\n",
       "    }\n",
       "\n",
       "    .dataframe tbody tr th {\n",
       "        vertical-align: top;\n",
       "    }\n",
       "\n",
       "    .dataframe thead th {\n",
       "        text-align: right;\n",
       "    }\n",
       "</style>\n",
       "<table border=\"1\" class=\"dataframe\">\n",
       "  <thead>\n",
       "    <tr style=\"text-align: right;\">\n",
       "      <th></th>\n",
       "      <th>id</th>\n",
       "      <th>song_title</th>\n",
       "      <th>artist</th>\n",
       "      <th>acousticness</th>\n",
       "      <th>danceability</th>\n",
       "      <th>duration_ms</th>\n",
       "      <th>energy</th>\n",
       "      <th>instrumentalness</th>\n",
       "      <th>key</th>\n",
       "      <th>liveness</th>\n",
       "      <th>loudness</th>\n",
       "      <th>mode</th>\n",
       "      <th>speechiness</th>\n",
       "      <th>tempo</th>\n",
       "      <th>valence</th>\n",
       "      <th>uri</th>\n",
       "    </tr>\n",
       "  </thead>\n",
       "  <tbody>\n",
       "    <tr>\n",
       "      <th>0</th>\n",
       "      <td>1ructZDtKxSKcLiYPwhNGs</td>\n",
       "      <td>Someone That Loves You '19</td>\n",
       "      <td>Izzy Bizu</td>\n",
       "      <td>0.00946</td>\n",
       "      <td>0.567</td>\n",
       "      <td>245525</td>\n",
       "      <td>0.825</td>\n",
       "      <td>0.000012</td>\n",
       "      <td>6</td>\n",
       "      <td>0.2210</td>\n",
       "      <td>-4.845</td>\n",
       "      <td>0</td>\n",
       "      <td>0.0447</td>\n",
       "      <td>104.003</td>\n",
       "      <td>0.512</td>\n",
       "      <td>spotify:track:1ructZDtKxSKcLiYPwhNGs</td>\n",
       "    </tr>\n",
       "    <tr>\n",
       "      <th>1</th>\n",
       "      <td>5rcGQIrv6eUIyCBfWga363</td>\n",
       "      <td>Borderline</td>\n",
       "      <td>Jordan Rakei</td>\n",
       "      <td>0.34100</td>\n",
       "      <td>0.546</td>\n",
       "      <td>255240</td>\n",
       "      <td>0.595</td>\n",
       "      <td>0.000546</td>\n",
       "      <td>5</td>\n",
       "      <td>0.0861</td>\n",
       "      <td>-7.305</td>\n",
       "      <td>1</td>\n",
       "      <td>0.0441</td>\n",
       "      <td>92.146</td>\n",
       "      <td>0.230</td>\n",
       "      <td>spotify:track:5rcGQIrv6eUIyCBfWga363</td>\n",
       "    </tr>\n",
       "    <tr>\n",
       "      <th>2</th>\n",
       "      <td>5JEnzGH3C2PnNnKZwjyLyJ</td>\n",
       "      <td>More Than Friends</td>\n",
       "      <td>Andrey Azizov</td>\n",
       "      <td>0.71400</td>\n",
       "      <td>0.730</td>\n",
       "      <td>251126</td>\n",
       "      <td>0.474</td>\n",
       "      <td>0.025000</td>\n",
       "      <td>5</td>\n",
       "      <td>0.1230</td>\n",
       "      <td>-9.192</td>\n",
       "      <td>0</td>\n",
       "      <td>0.0390</td>\n",
       "      <td>151.055</td>\n",
       "      <td>0.249</td>\n",
       "      <td>spotify:track:5JEnzGH3C2PnNnKZwjyLyJ</td>\n",
       "    </tr>\n",
       "    <tr>\n",
       "      <th>3</th>\n",
       "      <td>1aWilNgXLwSLKuTHLSmtRY</td>\n",
       "      <td>Show Me</td>\n",
       "      <td>TÂCHES</td>\n",
       "      <td>0.45000</td>\n",
       "      <td>0.850</td>\n",
       "      <td>279344</td>\n",
       "      <td>0.590</td>\n",
       "      <td>0.815000</td>\n",
       "      <td>9</td>\n",
       "      <td>0.1200</td>\n",
       "      <td>-10.123</td>\n",
       "      <td>0</td>\n",
       "      <td>0.0825</td>\n",
       "      <td>122.015</td>\n",
       "      <td>0.541</td>\n",
       "      <td>spotify:track:1aWilNgXLwSLKuTHLSmtRY</td>\n",
       "    </tr>\n",
       "    <tr>\n",
       "      <th>4</th>\n",
       "      <td>33vdDZDNBKsllkbZXFYUD4</td>\n",
       "      <td>I Love You</td>\n",
       "      <td>Patrick Lite</td>\n",
       "      <td>0.08710</td>\n",
       "      <td>0.774</td>\n",
       "      <td>158087</td>\n",
       "      <td>0.680</td>\n",
       "      <td>0.059500</td>\n",
       "      <td>10</td>\n",
       "      <td>0.1100</td>\n",
       "      <td>-6.587</td>\n",
       "      <td>0</td>\n",
       "      <td>0.0277</td>\n",
       "      <td>115.006</td>\n",
       "      <td>0.464</td>\n",
       "      <td>spotify:track:33vdDZDNBKsllkbZXFYUD4</td>\n",
       "    </tr>\n",
       "  </tbody>\n",
       "</table>\n",
       "</div>"
      ],
      "text/plain": [
       "                       id                  song_title         artist  \\\n",
       "0  1ructZDtKxSKcLiYPwhNGs  Someone That Loves You '19      Izzy Bizu   \n",
       "1  5rcGQIrv6eUIyCBfWga363                  Borderline   Jordan Rakei   \n",
       "2  5JEnzGH3C2PnNnKZwjyLyJ           More Than Friends  Andrey Azizov   \n",
       "3  1aWilNgXLwSLKuTHLSmtRY                     Show Me         TÂCHES   \n",
       "4  33vdDZDNBKsllkbZXFYUD4                  I Love You   Patrick Lite   \n",
       "\n",
       "   acousticness  danceability  duration_ms  energy  instrumentalness  key  \\\n",
       "0       0.00946         0.567       245525   0.825          0.000012    6   \n",
       "1       0.34100         0.546       255240   0.595          0.000546    5   \n",
       "2       0.71400         0.730       251126   0.474          0.025000    5   \n",
       "3       0.45000         0.850       279344   0.590          0.815000    9   \n",
       "4       0.08710         0.774       158087   0.680          0.059500   10   \n",
       "\n",
       "   liveness  loudness  mode  speechiness    tempo  valence  \\\n",
       "0    0.2210    -4.845     0       0.0447  104.003    0.512   \n",
       "1    0.0861    -7.305     1       0.0441   92.146    0.230   \n",
       "2    0.1230    -9.192     0       0.0390  151.055    0.249   \n",
       "3    0.1200   -10.123     0       0.0825  122.015    0.541   \n",
       "4    0.1100    -6.587     0       0.0277  115.006    0.464   \n",
       "\n",
       "                                    uri  \n",
       "0  spotify:track:1ructZDtKxSKcLiYPwhNGs  \n",
       "1  spotify:track:5rcGQIrv6eUIyCBfWga363  \n",
       "2  spotify:track:5JEnzGH3C2PnNnKZwjyLyJ  \n",
       "3  spotify:track:1aWilNgXLwSLKuTHLSmtRY  \n",
       "4  spotify:track:33vdDZDNBKsllkbZXFYUD4  "
      ]
     },
     "execution_count": 98,
     "metadata": {},
     "output_type": "execute_result"
    }
   ],
   "source": [
    "SourcePlaylist = sp.user_playlist(\"spotify\", \"playlist_id\")\n",
    "tracks = SourcePlaylist[\"tracks\"]\n",
    "songs = tracks[\"items\"] \n",
    "\n",
    "track_ids=[]\n",
    "track_names=[]\n",
    "\n",
    "#Creating a dataframe of the playlist\n",
    "song_ids = []\n",
    "print(len(songs))\n",
    "for i in range(0, len(songs)):\n",
    "    if songs[i]['track']['id'] != None:\n",
    "        track_ids.append(songs[i]['track']['id'])\n",
    "        track_names.append(songs[i]['track']['name'])\n",
    "    \n",
    "Newfeatures = []\n",
    "j = 0\n",
    "for i in range(0,len(track_ids)):\n",
    "    audio_features_training = sp.audio_features(track_ids[i])\n",
    "    for track in audio_features_training:\n",
    "        track['song_title'] = songs[j]['track']['name']\n",
    "        track['artist'] = songs[j]['track']['artists'][0]['name']\n",
    "        track['uri']=songs[j]['track']['uri']\n",
    "        j=j+1\n",
    "        Newfeatures.append(track)\n",
    "\n",
    " \n",
    "NewPlaylist = pd.DataFrame(Newfeatures)\n",
    "\n",
    "NewPlaylist_df=NewPlaylist[[\"id\", \"song_title\", \"artist\", \"acousticness\", \"danceability\", \"duration_ms\", \n",
    "                         \"energy\", \"instrumentalness\",  \"key\", \"liveness\",\n",
    "                         \"loudness\", \"mode\", \"speechiness\", \"tempo\", \"valence\", \"uri\"]]\n",
    "  \n",
    "\n",
    "NewPlaylist_df.head()"
   ]
  },
  {
   "cell_type": "code",
   "execution_count": 100,
   "id": "challenging-horse",
   "metadata": {},
   "outputs": [
    {
     "name": "stdout",
     "output_type": "stream",
     "text": [
      "Song: Borderline, By: Jordan Rakei\n",
      "Song: More Than Friends, By: Andrey Azizov\n",
      "Song: Show Me, By: TÂCHES\n",
      "Song: I Love You, By: Patrick Lite\n",
      "Song: Hold On, By: Ames\n",
      "Song: Baby Blue Eyes, By: Mathilda Homer\n",
      "Song: Electric Blue, By: Satin Jackets\n",
      "Song: Come Home, By: Du0\n",
      "Song: Awake, Animal 4 U, By: New Body Electric\n",
      "Song: Can't Get Over You, By: Godford\n",
      "Song: You - Mixed, By: Mk.gee\n",
      "Song: Yefkir Engurguro - Mixed, By: Hailu Mergia\n",
      "Song: Pain Au Chocolat, By: JHAS\n",
      "Song: Summer Nights, By: Mace\n",
      "Song: Julia (Deep Diving), By: Fred again..\n",
      "Song: When You're Lonely, By: Cash+David\n",
      "Song: Blue Lights, By: Lonely in the Rain\n",
      "Song: Something Good, By: The Lagoons\n",
      "Song: Tell Me, By: Conor Albert\n",
      "Song: Night Rain, By: Crazy P\n",
      "Song: Water Flow (Hazey Eyes Remix), By: Klyne\n",
      "Song: Time, By: SG Lewis\n",
      "Song: Don't Give Up, By: Groove Armada\n",
      "Song: The Whistle Song - House Kitsuné America, By: Allen French\n",
      "Song: Paradise, By: Kowloon\n",
      "Song: Back To The Roots Of Love - Saib Remix, By: NTEIBINT\n",
      "Song: L.Y.E, By: Later.\n",
      "27\n"
     ]
    }
   ],
   "source": [
    "pred = gbc.predict(NewPlaylist_df[features])\n",
    "\n",
    "Predicted_likedSongs = 0\n",
    "i = 0\n",
    "for prediction in pred:\n",
    "    if(prediction == 1):\n",
    "        print (\"Song: \" + NewPlaylist_df[\"song_title\"][i] + \", By: \"+ NewPlaylist_df[\"artist\"][i])\n",
    "        sp.user_playlist_add_tracks(\"username\", \"playlist_id\", [NewPlaylist_df['uri'][i]])\n",
    "        Predicted_likedSongs = Predicted_likedSongs + 1\n",
    "    i = i +1\n",
    "print(Predicted_likedSongs)\n",
    "\n",
    "\n",
    "# predicting like songs - adding to playlist"
   ]
  },
  {
   "cell_type": "code",
   "execution_count": 83,
   "id": "promotional-startup",
   "metadata": {},
   "outputs": [
    {
     "name": "stdout",
     "output_type": "stream",
     "text": [
      "Don't Leave Me Lonely (feat. YEBBA) - Mark Ronson - https://open.spotify.com/track/68e673a92s9HYTeZQD3sBX\n",
      "Californian Soil - London Grammar - https://open.spotify.com/track/5hR2CzTCqkuKRWFkphBS9M\n",
      "Inside Friend (feat. John Mayer) - Leon Bridges - https://open.spotify.com/track/4ehkZtzPTbjsRULRfQSWYu\n",
      "Mara - Jack Garratt - https://open.spotify.com/track/2OkzpTEv6BhrYBGchpdoc3\n",
      "Hell N Back - Bakar - https://open.spotify.com/track/3NRql0A1Ef4RCvT473iqgD\n",
      "Last Request - Paolo Nutini - https://open.spotify.com/track/2UXO3rKTfsfPieGDQHgG6q\n",
      "Need Somebody To Love - Ady Suleiman - https://open.spotify.com/track/6tDhad33YnPXOq01Qxt9d1\n",
      "Lights On - Izzy Bizu - https://open.spotify.com/track/0vpBmYdeqltCcOpufZCLcx\n",
      "Reason To Stay - Olivia Dean - https://open.spotify.com/track/56DxR1jHbX6xlGwZdUuN0v\n",
      "Nervous Tics (feat. Holly Walker) - Maribou State - https://open.spotify.com/track/2oJ8Il24SIiDCJv39RYzPp\n",
      "Feels Like a Sunday - Elderbrook - https://open.spotify.com/track/1ejVZdZLqAsDjdq3fFzaeH\n",
      "Shine - Emeli Sandé - https://open.spotify.com/track/0xfqaVemmHqJDxbvadxO7h\n",
      "Mixer - Amber Mark - https://open.spotify.com/track/58pJZsMEPXmYX8gvXWyt3V\n",
      "Late Night Feelings (feat. Lykke Li) - Mark Ronson - https://open.spotify.com/track/2jUO4Rbw8VizhpHS63jrq4\n",
      "SUPERBLOOM - MisterWives - https://open.spotify.com/track/2HvtedoEeymVWrBPyAMNwZ\n",
      "The Game - Milky Chance - https://open.spotify.com/track/7jYcqOZTwCefmIPTyRelsX\n",
      "Around The Sun - Poolside - https://open.spotify.com/track/3OeHPk27py8JaMUqIebznh\n",
      "Movies - Circa Waves - https://open.spotify.com/track/3D8jabgtmZtDibyb6gqZOT\n",
      "Yours to Keep - Jordan Mackampa - https://open.spotify.com/track/0ljxKa4x3ahmDeQOrLCjJr\n",
      "My Love Was Like the Rain - Låpsley - https://open.spotify.com/track/7ndzawc5kyZ7lcDpipRW77\n",
      "Your Girlfriend - Blossoms - https://open.spotify.com/track/3tzU46wNOVaFiYRNtNYY66\n",
      "Time - Radio Edit - Jack Garratt - https://open.spotify.com/track/5bsFBPX87QYVCi6Ga1xTzk\n",
      "religion (u can lay your hands on me) - Shura - https://open.spotify.com/track/3sPpFnxfeb2grY6cH9JYk9\n",
      "Into Nirvana - Maverick Sabre - https://open.spotify.com/track/1De7ddr6NfqajOQLu5uwKG\n",
      "Half As Good As You (feat. Alice Merton) - Tom Odell - https://open.spotify.com/track/25Up2vWWPlpYmdc0zpmDZq\n",
      "It Runs Through Me - Tom Misch - https://open.spotify.com/track/02CygBCQOIyEuhNZqHHcNx\n",
      "Be Honest - Jorja Smith - https://open.spotify.com/track/51aYPHVdOL9sIPOZj9dlXK\n",
      "Hero - Michael Kiwanuka - https://open.spotify.com/track/2Y61ZvCuuLOhdkgl1B9ekh\n",
      "Play God - Sam Fender - https://open.spotify.com/track/6R1y3I91AIktu7qoKIugtH\n",
      "My People - James Hersey - https://open.spotify.com/track/1VOL6KDCwEduG95LNVvSyx\n"
     ]
    },
    {
     "name": "stderr",
     "output_type": "stream",
     "text": [
      "<ipython-input-83-8ca86740b14c>:5: SettingWithCopyWarning: \n",
      "A value is trying to be set on a copy of a slice from a DataFrame.\n",
      "Try using .loc[row_indexer,col_indexer] = value instead\n",
      "\n",
      "See the caveats in the documentation: https://pandas.pydata.org/pandas-docs/stable/user_guide/indexing.html#returning-a-view-versus-a-copy\n",
      "  NewPlaylist_df['track_recs']=NewPlaylist_df['id'].apply(lambda x: [(track['id']) for track in\n"
     ]
    }
   ],
   "source": [
    "# Generate a new column for recommended tracks\n",
    "# Set recommendation limit to the Playlist Length per track\n",
    "# Check documentation for  recommendations; https://beta.developer.spotify.com/documentation/web-api/reference/browse/get-recommendations/\n",
    "\n",
    "NewPlaylist_df['track_recs']=NewPlaylist_df['id'].apply(lambda x: [(track['id']) for track in \n",
    "                                                  sp.recommendations(seed_tracks=[x], limit=len(NewPlaylist_df))['tracks']])\n",
    "\n",
    "# Take a look at recommended tracks for the first track\n",
    "for track in sp.tracks(NewPlaylist_df['track_recs'][0])['tracks']:\n",
    "    print(track['name'] + ' - ' + track['artists'][0]['name'] + ' - ' + track['external_urls']['spotify'])"
   ]
  }
 ],
 "metadata": {
  "kernelspec": {
   "display_name": "spotify",
   "language": "python",
   "name": "spotify"
  },
  "language_info": {
   "codemirror_mode": {
    "name": "ipython",
    "version": 3
   },
   "file_extension": ".py",
   "mimetype": "text/x-python",
   "name": "python",
   "nbconvert_exporter": "python",
   "pygments_lexer": "ipython3",
   "version": "3.9.2"
  }
 },
 "nbformat": 4,
 "nbformat_minor": 5
}
